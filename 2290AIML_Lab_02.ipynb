{
  "nbformat": 4,
  "nbformat_minor": 0,
  "metadata": {
    "colab": {
      "provenance": [],
      "include_colab_link": true
    },
    "kernelspec": {
      "name": "python3",
      "display_name": "Python 3"
    },
    "language_info": {
      "name": "python"
    }
  },
  "cells": [
    {
      "cell_type": "markdown",
      "metadata": {
        "id": "view-in-github",
        "colab_type": "text"
      },
      "source": [
        "<a href=\"https://colab.research.google.com/github/jagadeesh01032005/AIML2290/blob/main/2290AIML_Lab_02.ipynb\" target=\"_parent\"><img src=\"https://colab.research.google.com/assets/colab-badge.svg\" alt=\"Open In Colab\"/></a>"
      ]
    },
    {
      "cell_type": "code",
      "execution_count": 1,
      "metadata": {
        "id": "rUpX0kyTIRaS"
      },
      "outputs": [],
      "source": [
        "from queue import Queue\n",
        "from copy import deepcopy\n",
        "import numpy as np\n",
        "import time"
      ]
    },
    {
      "cell_type": "code",
      "source": [
        "graph = {0: [1, 3], 1: [0, 2, 3], 2: [4, 1, 5], 3: [4, 0, 1], 4: [2, 3, 5], 5: [4, 2], 6: []}\n",
        "print(\"The adjacency List representing the graph is:\")\n",
        "print(graph)"
      ],
      "metadata": {
        "colab": {
          "base_uri": "https://localhost:8080/"
        },
        "id": "zulHcSWAIbOu",
        "outputId": "7254f0d6-044b-45d3-bb34-9235f955a7ed"
      },
      "execution_count": 2,
      "outputs": [
        {
          "output_type": "stream",
          "name": "stdout",
          "text": [
            "The adjacency List representing the graph is:\n",
            "{0: [1, 3], 1: [0, 2, 3], 2: [4, 1, 5], 3: [4, 0, 1], 4: [2, 3, 5], 5: [4, 2], 6: []}\n"
          ]
        }
      ]
    },
    {
      "cell_type": "code",
      "source": [
        "def bfs(graph, source):\n",
        "    Q = Queue()\n",
        "    visited_vertices = set()\n",
        "    Q.put(source)\n",
        "    visited_vertices.update({0})\n",
        "    while not Q.empty():\n",
        "        vertex = Q.get()\n",
        "        print(vertex, end=\"-->\")\n",
        "        for u in graph[vertex]:\n",
        "            if u not in visited_vertices:\n",
        "                Q.put(u)\n",
        "                visited_vertices.update({u})"
      ],
      "metadata": {
        "id": "IjLy7r59Ifue"
      },
      "execution_count": 3,
      "outputs": []
    },
    {
      "cell_type": "code",
      "source": [
        "print(\"BFS traversal of graph with source 0 is:\")\n",
        "bfs(graph, 0)"
      ],
      "metadata": {
        "colab": {
          "base_uri": "https://localhost:8080/"
        },
        "id": "zpQkGPz8IhaR",
        "outputId": "0df9a561-9501-49a4-e2a5-a61fa4f2a1e0"
      },
      "execution_count": 4,
      "outputs": [
        {
          "output_type": "stream",
          "name": "stdout",
          "text": [
            "BFS traversal of graph with source 0 is:\n",
            "0-->1-->3-->2-->4-->5-->"
          ]
        }
      ]
    },
    {
      "cell_type": "code",
      "source": [
        "graph1 = {\n",
        "    'A' : ['B','S'],\n",
        "    'B' : ['A'],\n",
        "    'C' : ['D','E','F','S'],\n",
        "    'D' : ['C'],\n",
        "    'E' : ['C','H'],\n",
        "    'F' : ['C','G'],\n",
        "    'G' : ['F','S'],\n",
        "    'H' : ['E','G'],\n",
        "    'S' : ['A','C','G']\n",
        "}\n",
        "\n",
        "def dfs(graph, node, visited):\n",
        "    if node not in visited:\n",
        "        visited.append(node)\n",
        "        for k in graph[node]:\n",
        "            dfs(graph,k, visited)\n",
        "    return visited\n",
        "\n",
        "visited = dfs(graph1,'D', [])\n",
        "print(visited)"
      ],
      "metadata": {
        "colab": {
          "base_uri": "https://localhost:8080/"
        },
        "id": "7j2agAWCIk6e",
        "outputId": "924bf4f9-16a8-4f4d-c588-9721157e3064"
      },
      "execution_count": 5,
      "outputs": [
        {
          "output_type": "stream",
          "name": "stdout",
          "text": [
            "['D', 'C', 'E', 'H', 'G', 'F', 'S', 'A', 'B']\n"
          ]
        }
      ]
    },
    {
      "cell_type": "code",
      "source": [
        "def bestsolution(state):\n",
        "    bestsol = np.array([], int).reshape(-1, 9)\n",
        "    count = len(state) - 1\n",
        "    while count != -1:\n",
        "        bestsol = np.insert(bestsol, 0, state[count]['puzzle'], 0)\n",
        "        count = (state[count]['parent'])\n",
        "    return bestsol.reshape(-1, 3, 3)"
      ],
      "metadata": {
        "id": "8pPUtmlkImzj"
      },
      "execution_count": 6,
      "outputs": []
    },
    {
      "cell_type": "code",
      "source": [
        "def all(checkarray):\n",
        "    set=[]\n",
        "    for it in set:\n",
        "        for checkarray in it:\n",
        "            return 1\n",
        "        else:\n",
        "            return 0"
      ],
      "metadata": {
        "id": "kPBK5urhIxvC"
      },
      "execution_count": 7,
      "outputs": []
    },
    {
      "cell_type": "code",
      "source": [
        "def misplaced_tiles(puzzle,goal):\n",
        "    mscost = np.sum(puzzle != goal) - 1\n",
        "    return mscost if mscost > 0 else 0"
      ],
      "metadata": {
        "id": "OrVKcAP2Iz_0"
      },
      "execution_count": 8,
      "outputs": []
    },
    {
      "cell_type": "code",
      "source": [
        "def coordinates(puzzle):\n",
        "    pos = np.array(range(9))\n",
        "    for p, q in enumerate(puzzle):\n",
        "        pos[q] = p\n",
        "    return pos"
      ],
      "metadata": {
        "id": "am5yR2ohI2sN"
      },
      "execution_count": 9,
      "outputs": []
    },
    {
      "cell_type": "code",
      "source": [
        "def evaluvate_misplaced(puzzle, goal):\n",
        "    steps = np.array([('up', [0, 1, 2], -3),('down', [6, 7, 8],  3),('left', [0, 3, 6], -1),('right', [2, 5, 8],  1)],\n",
        "                dtype =  [('move',  str, 1),('position', list),('head', int)])\n",
        "\n",
        "    dtstate = [('puzzle',  list),('parent', int),('gn',  int),('hn',  int)]\n",
        "\n",
        "    costg = coordinates(goal)\n",
        "\n",
        "    # initializing the parent, gn and hn, where hn is misplaced_tiles  function call\n",
        "    parent = -1\n",
        "    gn = 0\n",
        "    hn = misplaced_tiles(coordinates(puzzle), costg)\n",
        "    state = np.array([(puzzle, parent, gn, hn)], dtstate)\n",
        "\n",
        "   #priority queues with position as keys and fn as value.\n",
        "    dtpriority = [('position', int),('fn', int)]\n",
        "\n",
        "    priority = np.array([(0, hn)], dtpriority)\n",
        "    while 1:\n",
        "        priority = np.sort(priority, kind='mergesort', order=['fn', 'position'])\n",
        "        position, fn = priority[0]\n",
        "        # sort priority queue using merge sort,the first element is picked for exploring.\n",
        "        priority = np.delete(priority, 0, 0)\n",
        "        puzzle, parent, gn, hn = state[position]\n",
        "        puzzle = np.array(puzzle)\n",
        "\n",
        "        blank = int(np.where(puzzle == 0)[0])\n",
        "\n",
        "        gn = gn + 1\n",
        "        c = 1\n",
        "        start_time = time.time()\n",
        "        for s in steps:\n",
        "            c = c + 1\n",
        "            if blank not in s['position']:\n",
        "                openstates = deepcopy(puzzle)\n",
        "                openstates[blank], openstates[blank + s['head']] = openstates[blank + s['head']], openstates[blank]\n",
        "\n",
        "                if ~(np.all(list(state['puzzle']) == openstates, 1)).any():\n",
        "                    end_time = time.time()\n",
        "                    if (( end_time - start_time ) > 2):\n",
        "                        print(\" The 8 puzzle is unsolvable \\n\")\n",
        "                        break\n",
        "                    hn = misplaced_tiles(coordinates(openstates), costg)\n",
        "                    # generate and add new state in the list\n",
        "                    q = np.array([(openstates, position, gn, hn)], dtstate)\n",
        "                    state = np.append(state, q, 0)\n",
        "                    # f(n) is the sum of cost to reach node\n",
        "                    fn = gn + hn\n",
        "\n",
        "                    q = np.array([(len(state) - 1, fn)], dtpriority)\n",
        "                    priority = np.append(priority, q, 0)\n",
        "\n",
        "                    if np.array_equal(openstates, goal):\n",
        "                        print(' The 8 puzzle is solvable \\n')\n",
        "                        return state, len(priority)\n",
        "\n",
        "    return state, len(priority)\n"
      ],
      "metadata": {
        "id": "ogQhETeQJB8Q"
      },
      "execution_count": 10,
      "outputs": []
    },
    {
      "cell_type": "code",
      "source": [
        "puzzle = []\n",
        "\n",
        "puzzle.append(2)\n",
        "puzzle.append(8)\n",
        "puzzle.append(3)\n",
        "puzzle.append(7)\n",
        "puzzle.append(1)\n",
        "puzzle.append(4)\n",
        "puzzle.append(0)\n",
        "puzzle.append(6)\n",
        "puzzle.append(5)"
      ],
      "metadata": {
        "id": "-2i_J67QJF9T"
      },
      "execution_count": 11,
      "outputs": []
    },
    {
      "cell_type": "code",
      "source": [
        "goal = []\n",
        "\n",
        "goal.append(1)\n",
        "goal.append(2)\n",
        "goal.append(3)\n",
        "goal.append(8)\n",
        "goal.append(0)\n",
        "goal.append(4)\n",
        "goal.append(7)\n",
        "goal.append(6)\n",
        "goal.append(5)\n"
      ],
      "metadata": {
        "id": "AJDND6eRJOx3"
      },
      "execution_count": 12,
      "outputs": []
    },
    {
      "cell_type": "code",
      "source": [
        "state, visited = evaluvate_misplaced(puzzle, goal)\n",
        "bestpath = bestsolution(state)\n",
        "print(str(bestpath).replace('[', ' ').replace(']', ''))\n",
        "totalmoves = len(bestpath) - 1\n",
        "print('\\nSteps to reach goal:',totalmoves)\n",
        "visit = len(state) - visited\n",
        "print('Total nodes visited: ',visit, \"\\n\")"
      ],
      "metadata": {
        "id": "EHKblRR0JRND",
        "outputId": "78a9b086-5d2f-4bb3-b5db-631b113eac0b",
        "colab": {
          "base_uri": "https://localhost:8080/"
        }
      },
      "execution_count": 13,
      "outputs": [
        {
          "output_type": "stream",
          "name": "stdout",
          "text": [
            " The 8 puzzle is solvable \n",
            "\n",
            "   2 8 3\n",
            "   7 1 4\n",
            "   0 6 5\n",
            "\n",
            "   2 8 3\n",
            "   0 1 4\n",
            "   7 6 5\n",
            "\n",
            "   2 8 3\n",
            "   1 0 4\n",
            "   7 6 5\n",
            "\n",
            "   2 0 3\n",
            "   1 8 4\n",
            "   7 6 5\n",
            "\n",
            "   0 2 3\n",
            "   1 8 4\n",
            "   7 6 5\n",
            "\n",
            "   1 2 3\n",
            "   0 8 4\n",
            "   7 6 5\n",
            "\n",
            "   1 2 3\n",
            "   8 0 4\n",
            "   7 6 5\n",
            "\n",
            "Steps to reach goal: 6\n",
            "Total nodes visited:  11 \n",
            "\n"
          ]
        },
        {
          "output_type": "stream",
          "name": "stderr",
          "text": [
            "<ipython-input-10-35a1d5c346a0>:27: DeprecationWarning: Conversion of an array with ndim > 0 to a scalar is deprecated, and will error in future. Ensure you extract a single element from your array before performing this operation. (Deprecated NumPy 1.25.)\n",
            "  blank = int(np.where(puzzle == 0)[0])\n"
          ]
        }
      ]
    }
  ]
}